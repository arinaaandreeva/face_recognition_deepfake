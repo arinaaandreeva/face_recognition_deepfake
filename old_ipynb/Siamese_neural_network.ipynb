{
  "cells": [
    {
      "cell_type": "code",
      "execution_count": null,
      "id": "c940df16-430a-489f-8333-3626f7f64314",
      "metadata": {
        "id": "c940df16-430a-489f-8333-3626f7f64314"
      },
      "outputs": [],
      "source": [
        "import pandas as pd\n",
        "import os\n",
        "import zipfile\n",
        "import json\n",
        "import random\n",
        "from PIL import Image\n",
        "import torch\n",
        "from tqdm import tqdm\n",
        "from torch.utils.data import Dataset\n",
        "from torchvision import transforms\n",
        "from torch.utils.data import DataLoader\n",
        "from torchvision import transforms\n",
        "from itertools import combinations, product\n",
        "import torchvision\n",
        "import matplotlib.pyplot as plt\n",
        "import numpy as np\n",
        "from torch.autograd import Variable\n",
        "import torch.nn as nn\n",
        "from torch import optim\n",
        "import torch.nn.functional as F\n",
        "import torchvision.models as models"
      ]
    },
    {
      "cell_type": "code",
      "execution_count": null,
      "id": "05748299-b17d-4a40-ad7d-cb126053a0a0",
      "metadata": {
        "id": "05748299-b17d-4a40-ad7d-cb126053a0a0"
      },
      "outputs": [],
      "source": [
        "device = torch.device(\"cuda\" if torch.cuda.is_available() else \"cpu\")"
      ]
    },
    {
      "cell_type": "code",
      "execution_count": null,
      "id": "55491e93-165c-4b9d-83d5-1c85424bbd81",
      "metadata": {
        "id": "55491e93-165c-4b9d-83d5-1c85424bbd81"
      },
      "outputs": [],
      "source": [
        "with open('output_folder/train/meta.json', 'r', encoding='utf-8') as f:\n",
        "    meta = json.load(f)  # meta теперь обычный словарь (dict)"
      ]
    },
    {
      "cell_type": "code",
      "execution_count": null,
      "id": "7cf31e0d-8a00-4d8f-985a-5442cd8631d9",
      "metadata": {
        "id": "7cf31e0d-8a00-4d8f-985a-5442cd8631d9"
      },
      "outputs": [],
      "source": [
        "id_to_images = {}  # ключ: id (строка '000000'), значение: список [(filename, label), ...]\n",
        "root_dir = 'output_folder/train/images'\n",
        "\n",
        "\n",
        "for key, value in meta.items():\n",
        "    person_id = key.split('/')[0]   # \"000000\"\n",
        "    filename  = key.split('/')[1]  # \"0.jpg\"\n",
        "    if person_id not in id_to_images:\n",
        "        id_to_images[person_id] = []\n",
        "    id_to_images[person_id].append((filename, value))\n",
        "\n",
        "all_ids = list(id_to_images.keys())\n",
        "\n",
        "pairs = []\n",
        "\n",
        "for idx in all_ids:\n",
        "    imgs_pos = id_to_images[idx]\n",
        "\n",
        "    positive_path = [os.path.join(root_dir, idx, i[0]) for i in imgs_pos if i[1] == 1]\n",
        "    negative_path = [os.path.join(root_dir, idx, i[0]) for i in imgs_pos if i[1] == 0]\n",
        "\n",
        "    positive_pairs = list(combinations(positive_path, 2))\n",
        "    negative_pairs = list(product(negative_path, negative_path))\n",
        "\n",
        "    positive_pairs_label = [(p[0], p[1], 1) for p in positive_pairs]\n",
        "    negative_pairs_label = [(p[0], p[1], 0) for p in negative_pairs]\n",
        "\n",
        "    pairs.extend(positive_pairs_label)\n",
        "    pairs.extend(negative_pairs_label)"
      ]
    },
    {
      "cell_type": "code",
      "execution_count": null,
      "id": "8af5b7d4-cdd3-4d93-9868-52f55b83f698",
      "metadata": {
        "id": "8af5b7d4-cdd3-4d93-9868-52f55b83f698"
      },
      "outputs": [],
      "source": [
        "class SeameseDataset(Dataset):\n",
        "    def __init__(self,\n",
        "                 pairs,\n",
        "                 transform=None,):\n",
        "        self.pairs = pairs\n",
        "        self.transform = transform\n",
        "\n",
        "\n",
        "    def __len__(self):\n",
        "        return len(self.pairs)\n",
        "\n",
        "    def __getitem__(self, idx):\n",
        "        img_path1, img_path2, label = self.pairs[idx]\n",
        "\n",
        "        # 3) Загрузка изображений\n",
        "        image1 = Image.open(img_path1).convert('RGB')\n",
        "        image2 = Image.open(img_path2).convert('RGB')\n",
        "\n",
        "        # 4) Трансформации (если есть)\n",
        "        if self.transform:\n",
        "            image1 = self.transform(image1)\n",
        "            image2 = self.transform(image2)\n",
        "\n",
        "        # 5) Возвращаем пару + метку\n",
        "        return image1, image2, torch.tensor(label, dtype=torch.float32)"
      ]
    },
    {
      "cell_type": "code",
      "execution_count": null,
      "id": "0544b75f-e53b-49f0-8590-b5e2fc816d09",
      "metadata": {
        "id": "0544b75f-e53b-49f0-8590-b5e2fc816d09"
      },
      "outputs": [],
      "source": [
        "transform = transforms.Compose([\n",
        "    transforms.Resize((128, 128)),\n",
        "    transforms.ToTensor(),\n",
        "    transforms.Normalize(mean=[0.485, 0.456, 0.406],\n",
        "                         std=[0.229, 0.224, 0.225])\n",
        "])\n"
      ]
    },
    {
      "cell_type": "code",
      "execution_count": null,
      "id": "bf05f8dd-5f26-496d-8148-4d6d9f94a9db",
      "metadata": {
        "id": "bf05f8dd-5f26-496d-8148-4d6d9f94a9db"
      },
      "outputs": [],
      "source": [
        "siamese_dataset = SeameseDataset(pairs, transform=transform)"
      ]
    },
    {
      "cell_type": "code",
      "execution_count": null,
      "id": "d809e43c-7b78-49c1-bfc0-7749fee06607",
      "metadata": {
        "id": "d809e43c-7b78-49c1-bfc0-7749fee06607"
      },
      "outputs": [],
      "source": [
        "vis_dataloader = DataLoader(\n",
        "    siamese_dataset,\n",
        "    shuffle=True,\n",
        "    batch_size=512\n",
        ")"
      ]
    },
    {
      "cell_type": "code",
      "execution_count": null,
      "id": "fa1677cf-72a7-43b1-a1c2-891efcb2df15",
      "metadata": {
        "id": "fa1677cf-72a7-43b1-a1c2-891efcb2df15"
      },
      "outputs": [],
      "source": [
        "example_batch = next(iter(vis_dataloader))"
      ]
    },
    {
      "cell_type": "code",
      "execution_count": null,
      "id": "038896c1-58bd-43ca-b04b-34b07d194103",
      "metadata": {
        "id": "038896c1-58bd-43ca-b04b-34b07d194103"
      },
      "outputs": [],
      "source": [
        "def imshow(img, text=None):\n",
        "    npimg = img.numpy()\n",
        "    plt.axis(\"off\")\n",
        "    if text:\n",
        "        plt.text(75, 8, text, style='italic',fontweight='bold',\n",
        "            bbox={'facecolor':'white', 'alpha':0.8, 'pad':10})\n",
        "\n",
        "    plt.imshow(np.transpose(npimg, (1, 2, 0)))\n",
        "    plt.show()\n",
        "\n",
        "# Plotting data\n",
        "def show_plot(iteration,loss):\n",
        "    plt.plot(iteration,loss)\n",
        "    plt.show()"
      ]
    },
    {
      "cell_type": "code",
      "execution_count": null,
      "id": "fd63ac3f-96f4-4184-ae8a-8691803c1e67",
      "metadata": {
        "scrolled": true,
        "id": "fd63ac3f-96f4-4184-ae8a-8691803c1e67",
        "outputId": "38a0ef85-baba-44b6-85b5-ea6295b50efc"
      },
      "outputs": [
        {
          "name": "stderr",
          "output_type": "stream",
          "text": [
            "Clipping input data to the valid range for imshow with RGB data ([0..1] for floats or [0..255] for integers). Got range [-2.117904..2.64].\n"
          ]
        },
        {
          "data": {
            "image/png": "[encoded data removed]",
            "text/plain": [
              "<Figure size 640x480 with 1 Axes>"
            ]
          },
          "metadata": {},
          "output_type": "display_data"
        },
        {
          "name": "stdout",
          "output_type": "stream",
          "text": [
            "[0. 0. 0. 0. 1. 0. 0. 1. 0. 0. 0. 0. 0. 1. 0. 1. 0. 0. 0. 0. 0. 0. 1. 1.\n",
            " 0. 1. 1. 0. 1. 1. 1. 1. 1. 0. 0. 0. 0. 0. 0. 1. 0. 0. 0. 1. 0. 0. 0. 1.\n",
            " 0. 0. 1. 0. 1. 0. 0. 0. 1. 0. 0. 0. 0. 0. 1. 0. 0. 0. 0. 0. 0. 0. 0. 1.\n",
            " 0. 0. 1. 1. 1. 0. 1. 0. 0. 1. 1. 0. 1. 1. 0. 0. 0. 1. 0. 0. 1. 0. 0. 0.\n",
            " 1. 1. 1. 0. 0. 0. 0. 0. 0. 1. 0. 0. 1. 0. 1. 0. 1. 1. 0. 0. 0. 1. 1. 1.\n",
            " 1. 1. 0. 0. 0. 0. 0. 1. 0. 0. 0. 0. 0. 0. 1. 0. 0. 0. 0. 0. 0. 1. 1. 1.\n",
            " 0. 0. 0. 0. 0. 0. 0. 1. 0. 1. 0. 1. 0. 0. 0. 0. 1. 0. 0. 0. 1. 0. 1. 0.\n",
            " 0. 0. 0. 0. 0. 0. 0. 0. 1. 0. 0. 0. 0. 1. 1. 1. 0. 0. 0. 0. 0. 0. 0. 0.\n",
            " 1. 0. 0. 0. 0. 1. 0. 0. 0. 0. 0. 0. 0. 0. 0. 0. 1. 0. 0. 0. 0. 0. 0. 1.\n",
            " 0. 0. 0. 0. 0. 0. 0. 0. 0. 1. 1. 0. 0. 0. 0. 1. 1. 0. 0. 1. 1. 0. 1. 0.\n",
            " 0. 0. 0. 0. 1. 1. 0. 0. 1. 0. 0. 0. 0. 0. 0. 0.]\n"
          ]
        }
      ],
      "source": [
        "concatenated = torch.cat((example_batch[0], example_batch[1]),0)\n",
        "\n",
        "imshow(torchvision.utils.make_grid(concatenated))\n",
        "print(example_batch[2].numpy().reshape(-1))"
      ]
    },
    {
      "cell_type": "code",
      "execution_count": null,
      "id": "65300a6d-11a0-4314-8327-8a6b8ab5c1b9",
      "metadata": {
        "id": "65300a6d-11a0-4314-8327-8a6b8ab5c1b9"
      },
      "outputs": [],
      "source": [
        "class SiameseNetwork(nn.Module):\n",
        "    def __init__(self):\n",
        "        super(SiameseNetwork, self).__init__()\n",
        "        base_model = models.mobilenet_v2(weights=models.MobileNet_V2_Weights.IMAGENET1K_V1)\n",
        "        self.feature_extractor = base_model.features\n",
        "\n",
        "        # Заморозить фичи (по желанию)\n",
        "        for param in self.feature_extractor.parameters():\n",
        "            param.requires_grad = False\n",
        "\n",
        "        self.fc = nn.Sequential(\n",
        "            nn.Linear(1280, 256),  # если AdaptiveAvgPool(1, 1)\n",
        "            nn.ReLU(inplace=True),\n",
        "            nn.Linear(256, 64)\n",
        "        )\n",
        "\n",
        "        self.adaptive_pool = nn.AdaptiveAvgPool2d((1, 1))\n",
        "\n",
        "\n",
        "    def forward_one(self, x):\n",
        "        x = self.feature_extractor(x)\n",
        "        x = self.adaptive_pool(x)\n",
        "        x = torch.flatten(x, 1)\n",
        "        x = self.fc(x)\n",
        "        return x\n",
        "\n",
        "\n",
        "\n",
        "    def forward(self, img1, img2):\n",
        "        out1 = self.forward_one(img1)\n",
        "        out2 = self.forward_one(img2)\n",
        "        return out1, out2"
      ]
    },
    {
      "cell_type": "code",
      "execution_count": null,
      "id": "230f67f3-63cf-40dd-9611-f9940676964f",
      "metadata": {
        "id": "230f67f3-63cf-40dd-9611-f9940676964f"
      },
      "outputs": [],
      "source": [
        "class ContrastiveLoss(nn.Module):\n",
        "    def __init__(self, margin=1.0):\n",
        "        super(ContrastiveLoss, self).__init__()\n",
        "        self.margin = margin\n",
        "\n",
        "    def forward(self, output1, output2, label):\n",
        "        euclidean_distance = F.pairwise_distance(output1, output2)\n",
        "        loss = torch.mean(\n",
        "            (1 - label) * torch.pow(euclidean_distance, 2) +  # если разные, то расстояние должно быть большим\n",
        "            label * torch.pow(torch.clamp(self.margin - euclidean_distance, min=0.0), 2)  # если одинаковые, то маленьким\n",
        "        )\n",
        "        return loss"
      ]
    },
    {
      "cell_type": "code",
      "execution_count": null,
      "id": "c5cd035a-f62c-4d24-85c3-7141e5e9ff77",
      "metadata": {
        "id": "c5cd035a-f62c-4d24-85c3-7141e5e9ff77"
      },
      "outputs": [],
      "source": [
        "import numpy as np\n",
        "from sklearn.metrics import roc_curve\n",
        "\n",
        "def compute_eer(y_true, y_score):\n",
        "    fpr, tpr, threshold = roc_curve(y_true, y_score)\n",
        "\n",
        "    # заменяем np.inf на max + eps\n",
        "    eps = 1e-3\n",
        "    threshold[0] = max(threshold[1:]) + eps\n",
        "\n",
        "    fnr = 1 - tpr\n",
        "    eer_index = np.nanargmin(np.absolute((fnr - fpr)))\n",
        "    eer = fnr[eer_index]\n",
        "    return eer"
      ]
    },
    {
      "cell_type": "code",
      "execution_count": null,
      "id": "9fa6231f-ba7d-4063-bae7-74ded16d7d70",
      "metadata": {
        "id": "9fa6231f-ba7d-4063-bae7-74ded16d7d70",
        "outputId": "27b4eabf-4a24-4213-a008-b0ec8423b402"
      },
      "outputs": [
        {
          "name": "stderr",
          "output_type": "stream",
          "text": [
            "Epoch 1/1: 100%|██████████████████████████████████████████████████████| 647/647 [2:14:43<00:00, 12.49s/it, loss=0.0050]\n"
          ]
        },
        {
          "name": "stdout",
          "output_type": "stream",
          "text": [
            "Epoch [1/1] finished\n"
          ]
        },
        {
          "data": {
            "image/png": "[encoded data removed]",
            "text/plain": [
              "<Figure size 1200x500 with 2 Axes>"
            ]
          },
          "metadata": {},
          "output_type": "display_data"
        }
      ],
      "source": [
        "num_epochs = 1\n",
        "log_interval = 10        # в tqdm\n",
        "metric_interval = 50     # как часто добавляем точку на график\n",
        "\n",
        "# Хранилища для графика\n",
        "loss_history = []\n",
        "eer_history = []\n",
        "timepoints = []   # это будет либо batch_idx, либо \"глобальный счетчик\"\n",
        "\n",
        "# Модель и оптимизатор\n",
        "siamese_net = SiameseNetwork().to(device)\n",
        "criterion = ContrastiveLoss().to(device)\n",
        "optimizer = optim.Adam(siamese_net.parameters(), lr=0.001)\n",
        "\n",
        "global_batch_count = 0  # глобальный счетчик батчей\n",
        "\n",
        "for epoch in range(num_epochs):\n",
        "    running_loss = 0.0\n",
        "    interval_labels = []\n",
        "    interval_scores = []\n",
        "\n",
        "    pbar = tqdm(enumerate(vis_dataloader), total=len(vis_dataloader), desc=f\"Epoch {epoch+1}/{num_epochs}\")\n",
        "\n",
        "    for batch_idx, (img1, img2, label) in pbar:\n",
        "        img1, img2, label = img1.to(device), img2.to(device), label.to(device)\n",
        "\n",
        "        optimizer.zero_grad()\n",
        "        output1, output2 = siamese_net(img1, img2)\n",
        "        distance = F.pairwise_distance(output1, output2)\n",
        "\n",
        "        loss = criterion(output1, output2, label)\n",
        "        loss.backward()\n",
        "        optimizer.step()\n",
        "\n",
        "        running_loss += loss.item()\n",
        "\n",
        "        # Собираем данные для метрики\n",
        "        interval_labels.extend(label.cpu().numpy())\n",
        "        interval_scores.extend(distance.detach().cpu().numpy())\n",
        "\n",
        "        if (batch_idx + 1) % log_interval == 0:\n",
        "            avg_loss = running_loss / log_interval\n",
        "            pbar.set_postfix(loss=f\"{avg_loss:.4f}\")\n",
        "            running_loss = 0.0\n",
        "\n",
        "        # Каждые metric_interval батчей — сохраняем точку на график\n",
        "        if (batch_idx + 1) % metric_interval == 0:\n",
        "            avg_loss = np.mean(running_loss)  # усредненный лосс за последние батчи\n",
        "            eer = compute_eer(np.array(interval_labels), np.array(interval_scores))\n",
        "\n",
        "            loss_history.append(avg_loss)\n",
        "            eer_history.append(eer)\n",
        "            timepoints.append(global_batch_count)\n",
        "\n",
        "            # Очистить буфер для следующего интервала\n",
        "            interval_labels = []\n",
        "            interval_scores = []\n",
        "\n",
        "        global_batch_count += 1  # счетчик всех батчей (сквозной)\n",
        "\n",
        "    print(f\"Epoch [{epoch+1}/{num_epochs}] finished\")\n",
        "\n",
        "# 📊 Рисуем графики\n",
        "plt.figure(figsize=(12, 5))\n",
        "\n",
        "# Лосс график\n",
        "plt.subplot(1, 2, 1)\n",
        "plt.plot(timepoints, loss_history, label=\"Loss\")\n",
        "plt.xlabel(\"Batch Index\")\n",
        "plt.ylabel(\"Loss\")\n",
        "plt.legend()\n",
        "\n",
        "# EER график\n",
        "plt.subplot(1, 2, 2)\n",
        "plt.plot(timepoints, eer_history, label=\"EER\", color=\"orange\")\n",
        "plt.xlabel(\"Batch Index\")\n",
        "plt.ylabel(\"EER\")\n",
        "plt.legend()\n",
        "\n",
        "plt.suptitle(\"Training Loss and EER over Time\")\n",
        "plt.show()"
      ]
    },
    {
      "cell_type": "code",
      "execution_count": null,
      "id": "e71ce04a-1af3-4b46-b3cc-ef5eaf8157bb",
      "metadata": {
        "id": "e71ce04a-1af3-4b46-b3cc-ef5eaf8157bb"
      },
      "outputs": [],
      "source": [
        "# torch.save(siamese_net.state_dict(), 'siamese_model_1.pth')"
      ]
    },
    {
      "cell_type": "code",
      "execution_count": null,
      "id": "e14eeb7f-c238-40cf-b84a-44aced3c8696",
      "metadata": {
        "id": "e14eeb7f-c238-40cf-b84a-44aced3c8696",
        "outputId": "3147403d-4756-4c17-eef3-47ce269d60a7"
      },
      "outputs": [
        {
          "data": {
            "text/plain": [
              "SiameseNetwork(\n",
              "  (feature_extractor): Sequential(\n",
              "    (0): Conv2dNormActivation(\n",
              "      (0): Conv2d(3, 32, kernel_size=(3, 3), stride=(2, 2), padding=(1, 1), bias=False)\n",
              "      (1): BatchNorm2d(32, eps=1e-05, momentum=0.1, affine=True, track_running_stats=True)\n",
              "      (2): ReLU6(inplace=True)\n",
              "    )\n",
              "    (1): InvertedResidual(\n",
              "      (conv): Sequential(\n",
              "        (0): Conv2dNormActivation(\n",
              "          (0): Conv2d(32, 32, kernel_size=(3, 3), stride=(1, 1), padding=(1, 1), groups=32, bias=False)\n",
              "          (1): BatchNorm2d(32, eps=1e-05, momentum=0.1, affine=True, track_running_stats=True)\n",
              "          (2): ReLU6(inplace=True)\n",
              "        )\n",
              "        (1): Conv2d(32, 16, kernel_size=(1, 1), stride=(1, 1), bias=False)\n",
              "        (2): BatchNorm2d(16, eps=1e-05, momentum=0.1, affine=True, track_running_stats=True)\n",
              "      )\n",
              "    )\n",
              "    (2): InvertedResidual(\n",
              "      (conv): Sequential(\n",
              "        (0): Conv2dNormActivation(\n",
              "          (0): Conv2d(16, 96, kernel_size=(1, 1), stride=(1, 1), bias=False)\n",
              "          (1): BatchNorm2d(96, eps=1e-05, momentum=0.1, affine=True, track_running_stats=True)\n",
              "          (2): ReLU6(inplace=True)\n",
              "        )\n",
              "        (1): Conv2dNormActivation(\n",
              "          (0): Conv2d(96, 96, kernel_size=(3, 3), stride=(2, 2), padding=(1, 1), groups=96, bias=False)\n",
              "          (1): BatchNorm2d(96, eps=1e-05, momentum=0.1, affine=True, track_running_stats=True)\n",
              "          (2): ReLU6(inplace=True)\n",
              "        )\n",
              "        (2): Conv2d(96, 24, kernel_size=(1, 1), stride=(1, 1), bias=False)\n",
              "        (3): BatchNorm2d(24, eps=1e-05, momentum=0.1, affine=True, track_running_stats=True)\n",
              "      )\n",
              "    )\n",
              "    (3): InvertedResidual(\n",
              "      (conv): Sequential(\n",
              "        (0): Conv2dNormActivation(\n",
              "          (0): Conv2d(24, 144, kernel_size=(1, 1), stride=(1, 1), bias=False)\n",
              "          (1): BatchNorm2d(144, eps=1e-05, momentum=0.1, affine=True, track_running_stats=True)\n",
              "          (2): ReLU6(inplace=True)\n",
              "        )\n",
              "        (1): Conv2dNormActivation(\n",
              "          (0): Conv2d(144, 144, kernel_size=(3, 3), stride=(1, 1), padding=(1, 1), groups=144, bias=False)\n",
              "          (1): BatchNorm2d(144, eps=1e-05, momentum=0.1, affine=True, track_running_stats=True)\n",
              "          (2): ReLU6(inplace=True)\n",
              "        )\n",
              "        (2): Conv2d(144, 24, kernel_size=(1, 1), stride=(1, 1), bias=False)\n",
              "        (3): BatchNorm2d(24, eps=1e-05, momentum=0.1, affine=True, track_running_stats=True)\n",
              "      )\n",
              "    )\n",
              "    (4): InvertedResidual(\n",
              "      (conv): Sequential(\n",
              "        (0): Conv2dNormActivation(\n",
              "          (0): Conv2d(24, 144, kernel_size=(1, 1), stride=(1, 1), bias=False)\n",
              "          (1): BatchNorm2d(144, eps=1e-05, momentum=0.1, affine=True, track_running_stats=True)\n",
              "          (2): ReLU6(inplace=True)\n",
              "        )\n",
              "        (1): Conv2dNormActivation(\n",
              "          (0): Conv2d(144, 144, kernel_size=(3, 3), stride=(2, 2), padding=(1, 1), groups=144, bias=False)\n",
              "          (1): BatchNorm2d(144, eps=1e-05, momentum=0.1, affine=True, track_running_stats=True)\n",
              "          (2): ReLU6(inplace=True)\n",
              "        )\n",
              "        (2): Conv2d(144, 32, kernel_size=(1, 1), stride=(1, 1), bias=False)\n",
              "        (3): BatchNorm2d(32, eps=1e-05, momentum=0.1, affine=True, track_running_stats=True)\n",
              "      )\n",
              "    )\n",
              "    (5): InvertedResidual(\n",
              "      (conv): Sequential(\n",
              "        (0): Conv2dNormActivation(\n",
              "          (0): Conv2d(32, 192, kernel_size=(1, 1), stride=(1, 1), bias=False)\n",
              "          (1): BatchNorm2d(192, eps=1e-05, momentum=0.1, affine=True, track_running_stats=True)\n",
              "          (2): ReLU6(inplace=True)\n",
              "        )\n",
              "        (1): Conv2dNormActivation(\n",
              "          (0): Conv2d(192, 192, kernel_size=(3, 3), stride=(1, 1), padding=(1, 1), groups=192, bias=False)\n",
              "          (1): BatchNorm2d(192, eps=1e-05, momentum=0.1, affine=True, track_running_stats=True)\n",
              "          (2): ReLU6(inplace=True)\n",
              "        )\n",
              "        (2): Conv2d(192, 32, kernel_size=(1, 1), stride=(1, 1), bias=False)\n",
              "        (3): BatchNorm2d(32, eps=1e-05, momentum=0.1, affine=True, track_running_stats=True)\n",
              "      )\n",
              "    )\n",
              "    (6): InvertedResidual(\n",
              "      (conv): Sequential(\n",
              "        (0): Conv2dNormActivation(\n",
              "          (0): Conv2d(32, 192, kernel_size=(1, 1), stride=(1, 1), bias=False)\n",
              "          (1): BatchNorm2d(192, eps=1e-05, momentum=0.1, affine=True, track_running_stats=True)\n",
              "          (2): ReLU6(inplace=True)\n",
              "        )\n",
              "        (1): Conv2dNormActivation(\n",
              "          (0): Conv2d(192, 192, kernel_size=(3, 3), stride=(1, 1), padding=(1, 1), groups=192, bias=False)\n",
              "          (1): BatchNorm2d(192, eps=1e-05, momentum=0.1, affine=True, track_running_stats=True)\n",
              "          (2): ReLU6(inplace=True)\n",
              "        )\n",
              "        (2): Conv2d(192, 32, kernel_size=(1, 1), stride=(1, 1), bias=False)\n",
              "        (3): BatchNorm2d(32, eps=1e-05, momentum=0.1, affine=True, track_running_stats=True)\n",
              "      )\n",
              "    )\n",
              "    (7): InvertedResidual(\n",
              "      (conv): Sequential(\n",
              "        (0): Conv2dNormActivation(\n",
              "          (0): Conv2d(32, 192, kernel_size=(1, 1), stride=(1, 1), bias=False)\n",
              "          (1): BatchNorm2d(192, eps=1e-05, momentum=0.1, affine=True, track_running_stats=True)\n",
              "          (2): ReLU6(inplace=True)\n",
              "        )\n",
              "        (1): Conv2dNormActivation(\n",
              "          (0): Conv2d(192, 192, kernel_size=(3, 3), stride=(2, 2), padding=(1, 1), groups=192, bias=False)\n",
              "          (1): BatchNorm2d(192, eps=1e-05, momentum=0.1, affine=True, track_running_stats=True)\n",
              "          (2): ReLU6(inplace=True)\n",
              "        )\n",
              "        (2): Conv2d(192, 64, kernel_size=(1, 1), stride=(1, 1), bias=False)\n",
              "        (3): BatchNorm2d(64, eps=1e-05, momentum=0.1, affine=True, track_running_stats=True)\n",
              "      )\n",
              "    )\n",
              "    (8): InvertedResidual(\n",
              "      (conv): Sequential(\n",
              "        (0): Conv2dNormActivation(\n",
              "          (0): Conv2d(64, 384, kernel_size=(1, 1), stride=(1, 1), bias=False)\n",
              "          (1): BatchNorm2d(384, eps=1e-05, momentum=0.1, affine=True, track_running_stats=True)\n",
              "          (2): ReLU6(inplace=True)\n",
              "        )\n",
              "        (1): Conv2dNormActivation(\n",
              "          (0): Conv2d(384, 384, kernel_size=(3, 3), stride=(1, 1), padding=(1, 1), groups=384, bias=False)\n",
              "          (1): BatchNorm2d(384, eps=1e-05, momentum=0.1, affine=True, track_running_stats=True)\n",
              "          (2): ReLU6(inplace=True)\n",
              "        )\n",
              "        (2): Conv2d(384, 64, kernel_size=(1, 1), stride=(1, 1), bias=False)\n",
              "        (3): BatchNorm2d(64, eps=1e-05, momentum=0.1, affine=True, track_running_stats=True)\n",
              "      )\n",
              "    )\n",
              "    (9): InvertedResidual(\n",
              "      (conv): Sequential(\n",
              "        (0): Conv2dNormActivation(\n",
              "          (0): Conv2d(64, 384, kernel_size=(1, 1), stride=(1, 1), bias=False)\n",
              "          (1): BatchNorm2d(384, eps=1e-05, momentum=0.1, affine=True, track_running_stats=True)\n",
              "          (2): ReLU6(inplace=True)\n",
              "        )\n",
              "        (1): Conv2dNormActivation(\n",
              "          (0): Conv2d(384, 384, kernel_size=(3, 3), stride=(1, 1), padding=(1, 1), groups=384, bias=False)\n",
              "          (1): BatchNorm2d(384, eps=1e-05, momentum=0.1, affine=True, track_running_stats=True)\n",
              "          (2): ReLU6(inplace=True)\n",
              "        )\n",
              "        (2): Conv2d(384, 64, kernel_size=(1, 1), stride=(1, 1), bias=False)\n",
              "        (3): BatchNorm2d(64, eps=1e-05, momentum=0.1, affine=True, track_running_stats=True)\n",
              "      )\n",
              "    )\n",
              "    (10): InvertedResidual(\n",
              "      (conv): Sequential(\n",
              "        (0): Conv2dNormActivation(\n",
              "          (0): Conv2d(64, 384, kernel_size=(1, 1), stride=(1, 1), bias=False)\n",
              "          (1): BatchNorm2d(384, eps=1e-05, momentum=0.1, affine=True, track_running_stats=True)\n",
              "          (2): ReLU6(inplace=True)\n",
              "        )\n",
              "        (1): Conv2dNormActivation(\n",
              "          (0): Conv2d(384, 384, kernel_size=(3, 3), stride=(1, 1), padding=(1, 1), groups=384, bias=False)\n",
              "          (1): BatchNorm2d(384, eps=1e-05, momentum=0.1, affine=True, track_running_stats=True)\n",
              "          (2): ReLU6(inplace=True)\n",
              "        )\n",
              "        (2): Conv2d(384, 64, kernel_size=(1, 1), stride=(1, 1), bias=False)\n",
              "        (3): BatchNorm2d(64, eps=1e-05, momentum=0.1, affine=True, track_running_stats=True)\n",
              "      )\n",
              "    )\n",
              "    (11): InvertedResidual(\n",
              "      (conv): Sequential(\n",
              "        (0): Conv2dNormActivation(\n",
              "          (0): Conv2d(64, 384, kernel_size=(1, 1), stride=(1, 1), bias=False)\n",
              "          (1): BatchNorm2d(384, eps=1e-05, momentum=0.1, affine=True, track_running_stats=True)\n",
              "          (2): ReLU6(inplace=True)\n",
              "        )\n",
              "        (1): Conv2dNormActivation(\n",
              "          (0): Conv2d(384, 384, kernel_size=(3, 3), stride=(1, 1), padding=(1, 1), groups=384, bias=False)\n",
              "          (1): BatchNorm2d(384, eps=1e-05, momentum=0.1, affine=True, track_running_stats=True)\n",
              "          (2): ReLU6(inplace=True)\n",
              "        )\n",
              "        (2): Conv2d(384, 96, kernel_size=(1, 1), stride=(1, 1), bias=False)\n",
              "        (3): BatchNorm2d(96, eps=1e-05, momentum=0.1, affine=True, track_running_stats=True)\n",
              "      )\n",
              "    )\n",
              "    (12): InvertedResidual(\n",
              "      (conv): Sequential(\n",
              "        (0): Conv2dNormActivation(\n",
              "          (0): Conv2d(96, 576, kernel_size=(1, 1), stride=(1, 1), bias=False)\n",
              "          (1): BatchNorm2d(576, eps=1e-05, momentum=0.1, affine=True, track_running_stats=True)\n",
              "          (2): ReLU6(inplace=True)\n",
              "        )\n",
              "        (1): Conv2dNormActivation(\n",
              "          (0): Conv2d(576, 576, kernel_size=(3, 3), stride=(1, 1), padding=(1, 1), groups=576, bias=False)\n",
              "          (1): BatchNorm2d(576, eps=1e-05, momentum=0.1, affine=True, track_running_stats=True)\n",
              "          (2): ReLU6(inplace=True)\n",
              "        )\n",
              "        (2): Conv2d(576, 96, kernel_size=(1, 1), stride=(1, 1), bias=False)\n",
              "        (3): BatchNorm2d(96, eps=1e-05, momentum=0.1, affine=True, track_running_stats=True)\n",
              "      )\n",
              "    )\n",
              "    (13): InvertedResidual(\n",
              "      (conv): Sequential(\n",
              "        (0): Conv2dNormActivation(\n",
              "          (0): Conv2d(96, 576, kernel_size=(1, 1), stride=(1, 1), bias=False)\n",
              "          (1): BatchNorm2d(576, eps=1e-05, momentum=0.1, affine=True, track_running_stats=True)\n",
              "          (2): ReLU6(inplace=True)\n",
              "        )\n",
              "        (1): Conv2dNormActivation(\n",
              "          (0): Conv2d(576, 576, kernel_size=(3, 3), stride=(1, 1), padding=(1, 1), groups=576, bias=False)\n",
              "          (1): BatchNorm2d(576, eps=1e-05, momentum=0.1, affine=True, track_running_stats=True)\n",
              "          (2): ReLU6(inplace=True)\n",
              "        )\n",
              "        (2): Conv2d(576, 96, kernel_size=(1, 1), stride=(1, 1), bias=False)\n",
              "        (3): BatchNorm2d(96, eps=1e-05, momentum=0.1, affine=True, track_running_stats=True)\n",
              "      )\n",
              "    )\n",
              "    (14): InvertedResidual(\n",
              "      (conv): Sequential(\n",
              "        (0): Conv2dNormActivation(\n",
              "          (0): Conv2d(96, 576, kernel_size=(1, 1), stride=(1, 1), bias=False)\n",
              "          (1): BatchNorm2d(576, eps=1e-05, momentum=0.1, affine=True, track_running_stats=True)\n",
              "          (2): ReLU6(inplace=True)\n",
              "        )\n",
              "        (1): Conv2dNormActivation(\n",
              "          (0): Conv2d(576, 576, kernel_size=(3, 3), stride=(2, 2), padding=(1, 1), groups=576, bias=False)\n",
              "          (1): BatchNorm2d(576, eps=1e-05, momentum=0.1, affine=True, track_running_stats=True)\n",
              "          (2): ReLU6(inplace=True)\n",
              "        )\n",
              "        (2): Conv2d(576, 160, kernel_size=(1, 1), stride=(1, 1), bias=False)\n",
              "        (3): BatchNorm2d(160, eps=1e-05, momentum=0.1, affine=True, track_running_stats=True)\n",
              "      )\n",
              "    )\n",
              "    (15): InvertedResidual(\n",
              "      (conv): Sequential(\n",
              "        (0): Conv2dNormActivation(\n",
              "          (0): Conv2d(160, 960, kernel_size=(1, 1), stride=(1, 1), bias=False)\n",
              "          (1): BatchNorm2d(960, eps=1e-05, momentum=0.1, affine=True, track_running_stats=True)\n",
              "          (2): ReLU6(inplace=True)\n",
              "        )\n",
              "        (1): Conv2dNormActivation(\n",
              "          (0): Conv2d(960, 960, kernel_size=(3, 3), stride=(1, 1), padding=(1, 1), groups=960, bias=False)\n",
              "          (1): BatchNorm2d(960, eps=1e-05, momentum=0.1, affine=True, track_running_stats=True)\n",
              "          (2): ReLU6(inplace=True)\n",
              "        )\n",
              "        (2): Conv2d(960, 160, kernel_size=(1, 1), stride=(1, 1), bias=False)\n",
              "        (3): BatchNorm2d(160, eps=1e-05, momentum=0.1, affine=True, track_running_stats=True)\n",
              "      )\n",
              "    )\n",
              "    (16): InvertedResidual(\n",
              "      (conv): Sequential(\n",
              "        (0): Conv2dNormActivation(\n",
              "          (0): Conv2d(160, 960, kernel_size=(1, 1), stride=(1, 1), bias=False)\n",
              "          (1): BatchNorm2d(960, eps=1e-05, momentum=0.1, affine=True, track_running_stats=True)\n",
              "          (2): ReLU6(inplace=True)\n",
              "        )\n",
              "        (1): Conv2dNormActivation(\n",
              "          (0): Conv2d(960, 960, kernel_size=(3, 3), stride=(1, 1), padding=(1, 1), groups=960, bias=False)\n",
              "          (1): BatchNorm2d(960, eps=1e-05, momentum=0.1, affine=True, track_running_stats=True)\n",
              "          (2): ReLU6(inplace=True)\n",
              "        )\n",
              "        (2): Conv2d(960, 160, kernel_size=(1, 1), stride=(1, 1), bias=False)\n",
              "        (3): BatchNorm2d(160, eps=1e-05, momentum=0.1, affine=True, track_running_stats=True)\n",
              "      )\n",
              "    )\n",
              "    (17): InvertedResidual(\n",
              "      (conv): Sequential(\n",
              "        (0): Conv2dNormActivation(\n",
              "          (0): Conv2d(160, 960, kernel_size=(1, 1), stride=(1, 1), bias=False)\n",
              "          (1): BatchNorm2d(960, eps=1e-05, momentum=0.1, affine=True, track_running_stats=True)\n",
              "          (2): ReLU6(inplace=True)\n",
              "        )\n",
              "        (1): Conv2dNormActivation(\n",
              "          (0): Conv2d(960, 960, kernel_size=(3, 3), stride=(1, 1), padding=(1, 1), groups=960, bias=False)\n",
              "          (1): BatchNorm2d(960, eps=1e-05, momentum=0.1, affine=True, track_running_stats=True)\n",
              "          (2): ReLU6(inplace=True)\n",
              "        )\n",
              "        (2): Conv2d(960, 320, kernel_size=(1, 1), stride=(1, 1), bias=False)\n",
              "        (3): BatchNorm2d(320, eps=1e-05, momentum=0.1, affine=True, track_running_stats=True)\n",
              "      )\n",
              "    )\n",
              "    (18): Conv2dNormActivation(\n",
              "      (0): Conv2d(320, 1280, kernel_size=(1, 1), stride=(1, 1), bias=False)\n",
              "      (1): BatchNorm2d(1280, eps=1e-05, momentum=0.1, affine=True, track_running_stats=True)\n",
              "      (2): ReLU6(inplace=True)\n",
              "    )\n",
              "  )\n",
              "  (fc): Sequential(\n",
              "    (0): DynamicQuantizedLinear(in_features=1280, out_features=256, dtype=torch.qint8, qscheme=torch.per_tensor_affine)\n",
              "    (1): ReLU(inplace=True)\n",
              "    (2): DynamicQuantizedLinear(in_features=256, out_features=64, dtype=torch.qint8, qscheme=torch.per_tensor_affine)\n",
              "  )\n",
              "  (adaptive_pool): AdaptiveAvgPool2d(output_size=(1, 1))\n",
              ")"
            ]
          },
          "execution_count": 6,
          "metadata": {},
          "output_type": "execute_result"
        }
      ],
      "source": [
        "model = SiameseNetwork()\n",
        "model.load_state_dict(torch.load(\"siamese_model_1.pth\", map_location='cpu'))\n",
        "\n",
        "# Указываем слои, которые хотим квантовать (например, Linear)\n",
        "model_quantized = torch.quantization.quantize_dynamic(\n",
        "    model,  # модель, которую квантуем\n",
        "    {nn.Linear},  # типы слоев для квантизации\n",
        "    dtype=torch.qint8\n",
        ")\n",
        "\n",
        "model_quantized.eval()"
      ]
    },
    {
      "cell_type": "code",
      "execution_count": null,
      "id": "7d3c0a0e-08b2-4294-a376-4532b6af4bd2",
      "metadata": {
        "id": "7d3c0a0e-08b2-4294-a376-4532b6af4bd2"
      },
      "outputs": [],
      "source": [
        "with zipfile.ZipFile('test_public.zip', 'r') as zip_ref:\n",
        "    zip_ref.extractall('C:\\\\Users\\\\user')"
      ]
    },
    {
      "cell_type": "code",
      "execution_count": null,
      "id": "7778ab4b-95a3-45e0-aa28-707352d46d36",
      "metadata": {
        "id": "7778ab4b-95a3-45e0-aa28-707352d46d36"
      },
      "outputs": [],
      "source": [
        "class TestPairDataset(torch.utils.data.Dataset):\n",
        "    def __init__(self, test_dir, transform=None):\n",
        "        self.test_dir = test_dir\n",
        "        self.pair_ids = sorted(os.listdir(test_dir))\n",
        "        self.transform = transform\n",
        "\n",
        "    def __len__(self):\n",
        "        return len(self.pair_ids)\n",
        "\n",
        "    def __getitem__(self, idx):\n",
        "        pair_id = self.pair_ids[idx]\n",
        "        pair_folder = os.path.join(self.test_dir, pair_id)\n",
        "        img1_path = os.path.join(pair_folder, '0.jpg')\n",
        "        img2_path = os.path.join(pair_folder, '1.jpg')\n",
        "\n",
        "        img1 = Image.open(img1_path).convert('RGB')\n",
        "        img2 = Image.open(img2_path).convert('RGB')\n",
        "\n",
        "        if self.transform:\n",
        "            img1 = self.transform(img1)\n",
        "            img2 = self.transform(img2)\n",
        "\n",
        "        return pair_id, img1, img2"
      ]
    },
    {
      "cell_type": "code",
      "execution_count": null,
      "id": "384fee11-46a3-47c2-9d10-015f37d8717b",
      "metadata": {
        "id": "384fee11-46a3-47c2-9d10-015f37d8717b"
      },
      "outputs": [],
      "source": [
        "transform = transforms.Compose([\n",
        "    transforms.Resize((224, 224)),\n",
        "    transforms.ToTensor(),\n",
        "])\n",
        "\n",
        "test_dir = 'C:\\\\Users\\\\user\\\\test_public\\\\images'"
      ]
    },
    {
      "cell_type": "code",
      "execution_count": null,
      "id": "eb600637-5103-4647-862f-aa84ae889759",
      "metadata": {
        "id": "eb600637-5103-4647-862f-aa84ae889759"
      },
      "outputs": [],
      "source": [
        "dataset = TestPairDataset(test_dir, transform=transform)\n",
        "dataloader = DataLoader(dataset, batch_size=512, shuffle=False)\n",
        "\n",
        "predictions = []\n",
        "\n",
        "with torch.no_grad():\n",
        "    for pair_ids, imgs1, imgs2 in tqdm(dataloader):\n",
        "        imgs1, imgs2 = imgs1.to(device), imgs2.to(device)\n",
        "\n",
        "        emb1, emb2 = model_quantized(imgs1, imgs2)\n",
        "        similarity = F.cosine_similarity(emb1, emb2).cpu().numpy()\n",
        "\n",
        "        for pair_id, sim in zip(pair_ids, similarity):\n",
        "            predictions.append({'pair_id': pair_id, 'similarity': sim.item()})\n",
        "\n",
        "# сохраняем submission\n",
        "submission_df = pd.DataFrame(predictions)\n",
        "submission_df = submission_df[['pair_id', 'similarity']]\n",
        "submission_df.to_csv(\"submission.csv\", index=False)"
      ]
    },
    {
      "cell_type": "code",
      "execution_count": null,
      "id": "bb34c7a2-1c88-42de-80e9-93b335d363a3",
      "metadata": {
        "id": "bb34c7a2-1c88-42de-80e9-93b335d363a3",
        "outputId": "e2963cde-384d-4fe5-e7c8-98053bb56d9d"
      },
      "outputs": [
        {
          "name": "stderr",
          "output_type": "stream",
          "text": [
            " 97%|████████████████████████████████████████████████████████████████████████████  | 307/315 [3:00:13<04:48, 36.06s/it]"
          ]
        }
      ],
      "source": [
        "class SiameseTestDataset(Dataset):\n",
        "    def __init__(self, test_dir, transform=None):\n",
        "        self.test_dir = test_dir\n",
        "        self.pair_ids = sorted(os.listdir(test_dir))\n",
        "        self.transform = transform\n",
        "\n",
        "    def __len__(self):\n",
        "        return len(self.pair_ids)\n",
        "\n",
        "    def __getitem__(self, idx):\n",
        "        pair_id = self.pair_ids[idx]\n",
        "        pair_folder = os.path.join(self.test_dir, pair_id)\n",
        "\n",
        "        img1_path = os.path.join(pair_folder, '0.jpg')\n",
        "        img2_path = os.path.join(pair_folder, '1.jpg')\n",
        "\n",
        "        img1 = Image.open(img1_path).convert('RGB')\n",
        "        img2 = Image.open(img2_path).convert('RGB')\n",
        "\n",
        "        if self.transform:\n",
        "            img1 = self.transform(img1)\n",
        "            img2 = self.transform(img2)\n",
        "\n",
        "        return pair_id, img1, img2\n",
        "\n",
        "transform = transforms.Compose([\n",
        "    transforms.Resize((224, 224)),\n",
        "    transforms.ToTensor(),\n",
        "])\n",
        "\n",
        "test_dir = r'C:\\Users\\user\\test_public\\images'\n",
        "\n",
        "dataset = SiameseTestDataset(test_dir, transform=transform)\n",
        "dataloader = DataLoader(dataset, batch_size=512, shuffle=False, pin_memory=True)\n",
        "\n",
        "predictions = []\n",
        "\n",
        "with torch.no_grad():\n",
        "    for pair_ids, imgs1, imgs2 in tqdm(dataloader):\n",
        "        imgs1, imgs2 = imgs1.to(device, non_blocking=True), imgs2.to(device, non_blocking=True)\n",
        "\n",
        "        # Правильно извлекаем эмбеддинги отдельно\n",
        "        emb1 = model_quantized.forward_one(imgs1)\n",
        "        emb2 = model_quantized.forward_one(imgs2)\n",
        "\n",
        "        similarity = F.cosine_similarity(emb1, emb2).cpu().numpy()\n",
        "\n",
        "        predictions.extend([\n",
        "            {'pair_id': pair_id, 'similarity': sim.item()}\n",
        "            for pair_id, sim in zip(pair_ids, similarity)\n",
        "        ])\n",
        "\n",
        "submission_df = pd.DataFrame(predictions)\n",
        "submission_df.to_csv(\"submission.csv\", index=False)"
      ]
    },
    {
      "cell_type": "code",
      "execution_count": null,
      "id": "06b7cb37-9673-4d2b-8f29-0d98812f1279",
      "metadata": {
        "id": "06b7cb37-9673-4d2b-8f29-0d98812f1279"
      },
      "outputs": [],
      "source": []
    },
    {
      "cell_type": "code",
      "execution_count": null,
      "id": "b4c7cc35-3d6f-4abf-81a8-08b9bc532567",
      "metadata": {
        "id": "b4c7cc35-3d6f-4abf-81a8-08b9bc532567"
      },
      "outputs": [],
      "source": []
    },
    {
      "cell_type": "code",
      "execution_count": null,
      "id": "731117e3-0895-4404-8e7e-c94639af7791",
      "metadata": {
        "id": "731117e3-0895-4404-8e7e-c94639af7791"
      },
      "outputs": [],
      "source": []
    },
    {
      "cell_type": "code",
      "execution_count": null,
      "id": "1ad38970-2df6-4740-8bf0-c2d93dad88d9",
      "metadata": {
        "id": "1ad38970-2df6-4740-8bf0-c2d93dad88d9"
      },
      "outputs": [],
      "source": []
    },
    {
      "cell_type": "code",
      "execution_count": null,
      "id": "86a68fef-c111-4ded-8ed6-204f09a7b3d4",
      "metadata": {
        "id": "86a68fef-c111-4ded-8ed6-204f09a7b3d4"
      },
      "outputs": [],
      "source": []
    },
    {
      "cell_type": "code",
      "execution_count": null,
      "id": "ebb223fb-f320-411d-a488-6bb851bfca53",
      "metadata": {
        "id": "ebb223fb-f320-411d-a488-6bb851bfca53"
      },
      "outputs": [],
      "source": []
    }
  ],
  "metadata": {
    "kernelspec": {
      "display_name": "Python 3 (ipykernel)",
      "language": "python",
      "name": "python3"
    },
    "language_info": {
      "codemirror_mode": {
        "name": "ipython",
        "version": 3
      },
      "file_extension": ".py",
      "mimetype": "text/x-python",
      "name": "python",
      "nbconvert_exporter": "python",
      "pygments_lexer": "ipython3",
      "version": "3.13.2"
    },
    "colab": {
      "provenance": []
    }
  },
  "nbformat": 4,
  "nbformat_minor": 5
}
